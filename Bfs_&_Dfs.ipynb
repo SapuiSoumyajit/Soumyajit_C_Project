{
  "nbformat": 4,
  "nbformat_minor": 0,
  "metadata": {
    "colab": {
      "provenance": [],
      "authorship_tag": "ABX9TyPIe8yW9fW0mQ0aaPKoMP+k",
      "include_colab_link": true
    },
    "kernelspec": {
      "name": "python3",
      "display_name": "Python 3"
    },
    "language_info": {
      "name": "python"
    }
  },
  "cells": [
    {
      "cell_type": "markdown",
      "metadata": {
        "id": "view-in-github",
        "colab_type": "text"
      },
      "source": [
        "<a href=\"https://colab.research.google.com/github/SapuiSoumyajit/Soumyajit_C_Project/blob/main/Bfs_%26_Dfs.ipynb\" target=\"_parent\"><img src=\"https://colab.research.google.com/assets/colab-badge.svg\" alt=\"Open In Colab\"/></a>"
      ]
    },
    {
      "cell_type": "markdown",
      "source": [
        "BFS & DFS implementation through graph using facebook dataset from SNAP"
      ],
      "metadata": {
        "id": "lJ60qyJR2Sc3"
      }
    },
    {
      "cell_type": "code",
      "execution_count": null,
      "metadata": {
        "id": "e1Yu6RUI2E1R"
      },
      "outputs": [],
      "source": [
        "import collections\n",
        "\n",
        "# Load the graph from an edge list file\n",
        "def load_graph(file_path):\n",
        "    graph = collections.defaultdict(list)\n",
        "    with open(file_path, 'r') as f:\n",
        "        for line in f:\n",
        "            node1, node2 = map(int, line.split())\n",
        "            graph[node1].append(node2)\n",
        "            graph[node2].append(node1)  # Since it's an undirected graph\n",
        "    return graph\n",
        "\n",
        "# BFS to find the shortest path between two users\n",
        "def bfs_shortest_path(graph, start, target):\n",
        "    visited = set()\n",
        "    queue = collections.deque([[start]])\n",
        "\n",
        "    if start == target:\n",
        "        return [start]\n",
        "\n",
        "    while queue:\n",
        "        path = queue.popleft()\n",
        "        node = path[-1]\n",
        "\n",
        "        if node not in visited:\n",
        "            neighbors = graph[node]\n",
        "\n",
        "            for neighbor in neighbors:\n",
        "                new_path = list(path)\n",
        "                new_path.append(neighbor)\n",
        "                queue.append(new_path)\n",
        "\n",
        "                if neighbor == target:\n",
        "                    return new_path\n",
        "\n",
        "            visited.add(node)\n",
        "\n",
        "    return None  # Return None if no path is found\n",
        "\n",
        "# DFS to explore all connections starting from a given user\n",
        "def dfs_explore(graph, start, visited=None):\n",
        "    if visited is None:\n",
        "        visited = set()\n",
        "\n",
        "    visited.add(start)\n",
        "    print(start)\n",
        "\n",
        "    for neighbor in graph[start]:\n",
        "        if neighbor not in visited:\n",
        "            dfs_explore(graph, neighbor, visited)\n",
        "    if __name__ == \"__main__\":\n",
        "     file_path = 'facebook_combined.txt'  # Replace with your dataset file path\n",
        "     graph = load_graph(file_path)\n",
        "\n",
        "    start_user = 0  # Replace with actual user ID\n",
        "    target_user = 10  # Replace with actual user ID\n",
        "\n",
        "    # Find shortest path using BFS\n",
        "    shortest_path = bfs_shortest_path(graph, start_user, target_user)\n",
        "    print(f\"Shortest path between {start_user} and {target_user}: {shortest_path}\")\n",
        "\n",
        "    # Explore all connections using DFS\n",
        "    print(f\"Connections from user {start_user}:\")\n",
        "    dfs_explore(graph, start_user)"
      ]
    },
    {
      "cell_type": "markdown",
      "source": [],
      "metadata": {
        "id": "yToJBlQN2QT4"
      }
    },
    {
      "cell_type": "code",
      "source": [],
      "metadata": {
        "id": "IwvAGk2D2GjR"
      },
      "execution_count": null,
      "outputs": []
    }
  ]
}